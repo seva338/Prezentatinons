{
 "cells": [
  {
   "cell_type": "markdown",
   "metadata": {},
   "source": [
    "# Модуль simplejson"
   ]
  },
  {
   "cell_type": "markdown",
   "metadata": {},
   "source": [
    "simplejson – модуль для кодирования и декодирования JSON файлов.\n",
    "Подерживается на Python 2.5+ и Python 3.3+."
   ]
  },
  {
   "cell_type": "markdown",
   "metadata": {},
   "source": [
    "Существую схожие модули: json, simplejson, cjson, ujson. Так как показатели разных тестов на разных машинах разняться, рекомендую проверять самостоятельно, какой модуль подойдёт лучше. Необходимо также отметить, что модуль json - это simplejson, добавленный в stdlib в Python 2.6. "
   ]
  },
  {
   "cell_type": "markdown",
   "metadata": {},
   "source": [
    "Кодирование основных иерархий объектов Python:"
   ]
  },
  {
   "cell_type": "code",
   "execution_count": null,
   "metadata": {},
   "outputs": [],
   "source": [
    ">>> import simplejson\n",
    ">>> simplejson.dumps(['foo', {'bar': ('baz', None, 1.0, 2)}])\n",
    "'[\"foo\", 
        {\"bar\": 
            [\"baz\", null, 1.0, 2]
        }
    ]'\n",
    ">>> print(simplejson.dumps(\"\\\"foo\\bar\"))\n",
    "\"\\\"foo\\bar\"\n",
    ">>> print(simplejson.dumps(u'\\u1234'))\n",
    "\"\\u1234\"\n",
    ">>> print(simplejson.dumps('\\\\'))\n",
    "\"\\\\\"\n",
    ">>> print(simplejson.dumps({\"c\": 0, \"b\": 0, \"a\": 0}, sort_keys=True))\n",
    "{\"a\": 0, \"b\": 0, \"c\": 0}"
   ]
  },
  {
   "cell_type": "markdown",
   "metadata": {},
   "source": [
    "Компактное кодирование:"
   ]
  },
  {
   "cell_type": "code",
   "execution_count": null,
   "metadata": {},
   "outputs": [],
   "source": [
    ">>> import simplejson\n",
    ">>> obj = [1,2,3,{'4': 5, '6': 7}]\n",
    ">>> simplejson.dumps(obj, separators=(',', ':'), sort_keys=True)\n",
    "'[1,2,3,{\"4\":5,\"6\":7}]'"
   ]
  },
  {
   "cell_type": "markdown",
   "metadata": {},
   "source": [
    "Для красивого вывода json файла используем ключь indent и присваевоем ему значение отступов в иерархии, к примеру 4 отступа:"
   ]
  },
  {
   "cell_type": "code",
   "execution_count": null,
   "metadata": {},
   "outputs": [],
   "source": [
    ">>> print(simplejson.dumps({'4': 5, '6': 7}, sort_keys=True, indent=4))\n",
    "{\n",
    "    \"4\": 5,\n",
    "    \"6\": 7\n",
    "}"
   ]
  },
  {
   "cell_type": "markdown",
   "metadata": {},
   "source": [
    "Для считывания/расшифровки JSON используем метод loads:"
   ]
  },
  {
   "cell_type": "code",
   "execution_count": null,
   "metadata": {},
   "outputs": [],
   "source": [
    ">>> obj = [u'foo', {u'bar': [u'baz', None, 1.0, 2]}]\n",
    ">>> json.loads('[\"foo\", {\"bar\":[\"baz\", null, 1.0, 2]}]') == obj\n",
    "True"
   ]
  },
  {
   "cell_type": "markdown",
   "metadata": {},
   "source": [
    "Как мы могли заметить, значения в обектах внешне отличаются, но их сравненеие говорит об их эдентичности. Это следствие того, что свои типы данных JSON уноследовал от JavaScript, (JSON - JavaScript Object Notation). Соотносятся типы данных Python и JSON следующим образом: "
   ]
  },
  {
   "cell_type": "markdown",
   "metadata": {},
   "source": [
    "|    JSON       | Python |\n",
    "\n",
    "| object        |  dict    |\n",
    "\n",
    "| array         |  list    |\n",
    "\n",
    "| string        |  str     |\n",
    "\n",
    "| number (int)  |  int     |\n",
    "\n",
    "| number (real) |  float   |\n",
    "\n",
    "| true          |  True    |\n",
    "\n",
    "| false\t        |  False   |\n",
    "\n",
    "| null          |  None    |"
   ]
  },
  {
   "cell_type": "markdown",
   "metadata": {},
   "source": [
    "Домашнее задание:\n",
    "Создать берчмарк для сравнения эфеективности модулей json и simplejson на основе использования основных методов: dump, dumps, loads.\n"
   ]
  }
 ],
 "metadata": {
  "kernelspec": {
   "display_name": "Python 3",
   "language": "python",
   "name": "python3"
  },
  "language_info": {
   "codemirror_mode": {
    "name": "ipython",
    "version": 3
   },
   "file_extension": ".py",
   "mimetype": "text/x-python",
   "name": "python",
   "nbconvert_exporter": "python",
   "pygments_lexer": "ipython3",
   "version": "3.8.5"
  }
 },
 "nbformat": 4,
 "nbformat_minor": 4
}
