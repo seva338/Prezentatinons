{
 "cells": [
  {
   "cell_type": "markdown",
   "metadata": {},
   "source": [
    "# JMESPath"
   ]
  },
  {
   "cell_type": "markdown",
   "metadata": {},
   "source": [
    "JMESPath позволяет декларативно указать, как извлекать элементы из документа JSON."
   ]
  },
  {
   "cell_type": "markdown",
   "metadata": {},
   "source": [
    "В jmespath.py библиотеке есть две функции, которые работают со структурами данных Python: jmespath.search и jmespath.compile. jmespath.search отвечает за возврат искомого в файле JSON значения, заданного определённым выражением. А jmespath.compile для компиляции выражения JMESPath и использовании его в дальнейшем для выполнения повторяющихся поисков при помощью проанализированного выражения."
   ]
  },
  {
   "cell_type": "code",
   "execution_count": null,
   "metadata": {},
   "outputs": [],
   "source": [
    ">>> import jmespath\n",
    ">>> path = jmespath.search('foo.bar', {'foo': {'bar': 'baz'}})\n",
    ">>> print(path) \n",
    "'baz'"
   ]
  },
  {
   "cell_type": "markdown",
   "metadata": {},
   "source": [
    "В этом примере видно, что функции search пеердаётся jmespath выражение 'foo.bar' и данные json {'foo': {'bar': 'baz'}}. после чего функция search возвращает значение из файла json, которое ищет jmespath выражение."
   ]
  },
  {
   "cell_type": "markdown",
   "metadata": {},
   "source": [
    "JMESPath поддерживает сылки на элементы в списке. Вы также можете ссылаться на все элементы в списке, используя * в синтаксисе выражения."
   ]
  },
  {
   "cell_type": "code",
   "execution_count": null,
   "metadata": {},
   "outputs": [],
   "source": [
    ">>> path = jmespath.search('foo.bar[*].name', {\"foo\": {\"bar\": [{\"name\": \"one\"}, {\"name\": \"two\"}]}})\n",
    ">>> print(path) \n",
    "['one', 'two']\n",
    "\n",
    "\n",
    ">>> path = jmespath.search('foo.bar[0]', {\"foo\": {\"bar\": [{\"name\": \"one\"}, {\"name\": \"two\"}]}})\n",
    ">>> print(path)\n",
    "{'name': 'one'}\n",
    "\n",
    "\n",
    ">>> path = jmespath.search('foo.*.name', {\"foo\": {\"bar\": {\"name\": \"one\"}, \"baz\": {\"name\": \"two\"}}})\n",
    ">>> print(path)\n",
    "['one', 'two']"
   ]
  },
  {
   "cell_type": "markdown",
   "metadata": {},
   "source": [
    "Переходя к jmespath.compile, обратим взор на простой пример его применения, где в expression передаётся выражение jmespath при помощи compile, и прозже к expression применяется функция search с json фойлом, откуда извлекаются элементы документа json. И повторяем поису уже с другим json документом, закономерно получая иной элемент, но при неизменном jmespath выражения."
   ]
  },
  {
   "cell_type": "code",
   "execution_count": null,
   "metadata": {},
   "outputs": [],
   "source": [
    ">>> import jmespath\n",
    ">>> expression = jmespath.compile('foo.bar')\n",
    ">>> expression.search({'foo': {'bar': 'baz'}})\n",
    "'baz'\n",
    ">>> expression.search({'foo': {'bar': 'other'}})\n",
    "'other'"
   ]
  },
  {
   "cell_type": "markdown",
   "metadata": {},
   "source": [
    "## Домашнее задание\n",
    "\n",
    "1) Извлекие из json файла \n",
    "{\n",
    "    \"people\": [\n",
    "        {\"first\": \"James\", \"last\": \"d\"},\n",
    "        {\"first\": \"Jacob\", \"last\": \"e\"},\n",
    "        {\"first\": \"Jayden\", \"last\": \"f\"},\n",
    "        {\"missing\": \"different\"}\n",
    "    ],\n",
    "    \"foo\": {\"bar\": \"baz\"}\n",
    "}\n",
    "\n",
    "массив\n",
    "\n",
    "[\n",
    "  \"James\",\n",
    "  \"Jacob\"\n",
    "]\n",
    "\n",
    "Одной функцией!!!\n",
    "*вам пригодитится срез"
   ]
  },
  {
   "cell_type": "code",
   "execution_count": null,
   "metadata": {},
   "outputs": [],
   "source": []
  }
 ],
 "metadata": {
  "kernelspec": {
   "display_name": "Python 3",
   "language": "python",
   "name": "python3"
  }
 },
 "nbformat": 4,
 "nbformat_minor": 4
}
